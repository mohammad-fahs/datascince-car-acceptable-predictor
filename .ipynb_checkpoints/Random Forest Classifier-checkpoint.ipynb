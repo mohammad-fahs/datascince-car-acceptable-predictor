{
 "cells": [
  {
   "cell_type": "code",
   "execution_count": 1,
   "id": "1025bee6-93fe-483a-afdd-26e933a647fd",
   "metadata": {},
   "outputs": [],
   "source": [
    "# Import necessary libraries\n",
    "import pandas as pd\n",
    "import matplotlib.pyplot as plt\n",
    "import seaborn as sns\n",
    "from sklearn.metrics import confusion_matrix\n",
    "from sklearn.model_selection import train_test_split\n",
    "from sklearn.ensemble import RandomForestClassifier\n",
    "from sklearn.preprocessing import LabelEncoder\n",
    "from sklearn.metrics import classification_report, accuracy_score"
   ]
  },
  {
   "cell_type": "code",
   "execution_count": 2,
   "id": "6b36bf5b-d622-4602-b6f3-eba812dfe974",
   "metadata": {},
   "outputs": [
    {
     "name": "stdout",
     "output_type": "stream",
     "text": [
      "  buying  maint doors persons lug_boot safety  class\n",
      "0   high  vhigh     2       2    small    low  unacc\n",
      "1  vhigh  vhigh     2       2    small    med  unacc\n",
      "2  vhigh  vhigh     2       2    small   high  unacc\n",
      "3  vhigh  vhigh     2       2      med    low  unacc\n",
      "4  vhigh  vhigh     2       2      med    med  unacc\n",
      "<class 'pandas.core.frame.DataFrame'>\n",
      "RangeIndex: 1728 entries, 0 to 1727\n",
      "Data columns (total 7 columns):\n",
      " #   Column    Non-Null Count  Dtype \n",
      "---  ------    --------------  ----- \n",
      " 0   buying    1728 non-null   object\n",
      " 1   maint     1728 non-null   object\n",
      " 2   doors     1728 non-null   object\n",
      " 3   persons   1728 non-null   object\n",
      " 4   lug_boot  1728 non-null   object\n",
      " 5   safety    1728 non-null   object\n",
      " 6   class     1728 non-null   object\n",
      "dtypes: object(7)\n",
      "memory usage: 94.6+ KB\n",
      "None\n"
     ]
    }
   ],
   "source": [
    "# Load dataset\n",
    "df = pd.read_csv('car.csv')\n",
    "print(df.head())\n",
    "print(df.info())"
   ]
  },
  {
   "cell_type": "code",
   "execution_count": 3,
   "id": "9d20a8ed-963f-4956-8988-591b48d5f36b",
   "metadata": {},
   "outputs": [
    {
     "name": "stdout",
     "output_type": "stream",
     "text": [
      "   buying  maint  doors  persons  lug_boot  safety  class\n",
      "0       0      3      0        0         2       1      2\n",
      "1       3      3      0        0         2       2      2\n",
      "2       3      3      0        0         2       0      2\n",
      "3       3      3      0        0         1       1      2\n",
      "4       3      3      0        0         1       2      2\n"
     ]
    }
   ],
   "source": [
    "# Encode categorical variables\n",
    "label_encoders = {}\n",
    "for column in df.select_dtypes(include='object').columns:\n",
    "    le = LabelEncoder()\n",
    "    df[column] = le.fit_transform(df[column])\n",
    "    label_encoders[column] = le\n",
    "\n",
    "print(df.head())"
   ]
  },
  {
   "cell_type": "code",
   "execution_count": 4,
   "id": "b4565da9-fe3d-4ae5-892b-0d9d8278ec94",
   "metadata": {},
   "outputs": [],
   "source": [
    "# Split data\n",
    "X = df.drop(columns=['class'])\n",
    "y = df['class']\n",
    "X_train, X_test, y_train, y_test = train_test_split(X, y, test_size=0.2, random_state=42)\n"
   ]
  },
  {
   "cell_type": "code",
   "execution_count": 5,
   "id": "952854e9-5889-4c2e-a546-f3ac9fef297f",
   "metadata": {},
   "outputs": [
    {
     "name": "stdout",
     "output_type": "stream",
     "text": [
      "Model training complete.\n"
     ]
    }
   ],
   "source": [
    "# Train Random Forest Classifier model\n",
    "rf_classifier = RandomForestClassifier(n_estimators=100, random_state=42)  # Updated model\n",
    "rf_classifier.fit(X_train, y_train)\n",
    "print(\"Model training complete.\")"
   ]
  },
  {
   "cell_type": "code",
   "execution_count": 6,
   "id": "a02c2384-4862-4ded-a4e9-ee47753d4c4c",
   "metadata": {},
   "outputs": [
    {
     "name": "stdout",
     "output_type": "stream",
     "text": [
      "Classification Report:\n",
      "              precision    recall  f1-score   support\n",
      "\n",
      "           0       0.99      0.89      0.94        83\n",
      "           1       0.65      1.00      0.79        11\n",
      "           2       0.99      1.00      0.99       235\n",
      "           3       1.00      0.94      0.97        17\n",
      "\n",
      "    accuracy                           0.97       346\n",
      "   macro avg       0.91      0.96      0.92       346\n",
      "weighted avg       0.98      0.97      0.97       346\n",
      "\n",
      "Accuracy: 0.97\n"
     ]
    }
   ],
   "source": [
    "# Evaluate the model\n",
    "y_pred = rf_classifier.predict(X_test)\n",
    "print(\"Classification Report:\")\n",
    "print(classification_report(y_test, y_pred))\n",
    "accuracy = accuracy_score(y_test, y_pred)\n",
    "print(f\"Accuracy: {accuracy:.2f}\")"
   ]
  },
  {
   "cell_type": "code",
   "execution_count": null,
   "id": "12f84481-1fbb-4909-9c9c-c399b867b46b",
   "metadata": {},
   "outputs": [],
   "source": []
  },
  {
   "cell_type": "code",
   "execution_count": 9,
   "id": "5b32c76b-e325-4dee-94ca-fd242df737f8",
   "metadata": {},
   "outputs": [
    {
     "name": "stdout",
     "output_type": "stream",
     "text": [
      "Top Features based on Random Forest Feature Importance:\n",
      "    Feature  Importance\n",
      "5    safety    0.276163\n",
      "3   persons    0.218204\n",
      "0    buying    0.190309\n",
      "1     maint    0.162069\n",
      "4  lug_boot    0.085628\n",
      "2     doors    0.067627\n"
     ]
    }
   ],
   "source": [
    "# Get feature importance\n",
    "feature_importance = pd.DataFrame({\n",
    "    'Feature': X.columns,\n",
    "    'Importance': rf_classifier.feature_importances_  # Updated to RandomForest feature importances\n",
    "})\n",
    "\n",
    "# Sort by importance values\n",
    "top_features = feature_importance.reindex(feature_importance['Importance'].sort_values(ascending=False).index)\n",
    "\n",
    "# Display top features\n",
    "print(\"Top Features based on Random Forest Feature Importance:\")\n",
    "print(top_features.head(10))"
   ]
  },
  {
   "cell_type": "code",
   "execution_count": null,
   "id": "ed548061-3913-437a-95ec-2262835c2ae7",
   "metadata": {},
   "outputs": [],
   "source": []
  }
 ],
 "metadata": {
  "kernelspec": {
   "display_name": "Python 3 (ipykernel)",
   "language": "python",
   "name": "python3"
  },
  "language_info": {
   "codemirror_mode": {
    "name": "ipython",
    "version": 3
   },
   "file_extension": ".py",
   "mimetype": "text/x-python",
   "name": "python",
   "nbconvert_exporter": "python",
   "pygments_lexer": "ipython3",
   "version": "3.11.10"
  }
 },
 "nbformat": 4,
 "nbformat_minor": 5
}
